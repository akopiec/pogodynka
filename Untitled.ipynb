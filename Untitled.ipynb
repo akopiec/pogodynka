{
 "cells": [
  {
   "cell_type": "code",
   "execution_count": 1,
   "id": "621ec0fd-0671-44cd-9098-e2a1d6989f97",
   "metadata": {},
   "outputs": [],
   "source": []
  },
  {
   "cell_type": "code",
   "execution_count": null,
   "id": "5fd4920f-1a35-49f5-a1a8-48bd66b9b4b0",
   "metadata": {},
   "outputs": [],
   "source": []
  },
  {
   "cell_type": "code",
   "execution_count": null,
   "id": "b87bb958-1f93-4b47-889f-658b03995a35",
   "metadata": {},
   "outputs": [],
   "source": [
    "\n",
    "\n"
   ]
  },
  {
   "cell_type": "code",
   "execution_count": 14,
   "id": "0a96c394-5e04-4fd5-9357-cfdd7d9ed094",
   "metadata": {},
   "outputs": [
    {
     "data": {
      "text/html": [
       " <form method=\"post\" action=\"{% url \"jaka_pogoda\" %}\" id=\"tekst\"><textarea rows=\"5\" cols=\"10\" id=></textarea><input type=\"submit\" value=\"odpowiedz\"></form> "
      ],
      "text/plain": [
       "<IPython.core.display.HTML object>"
      ]
     },
     "metadata": {},
     "output_type": "display_data"
    }
   ],
   "source": [
    "\n",
    "from IPython.display import display, HTML\n",
    "display(HTML(' <form method=\"post\" action=\"{% url \"jaka_pogoda\" %}\" id=\"tekst\"><textarea rows=\"5\" cols=\"10\" id=></textarea><input type=\"submit\" value=\"odpowiedz\"></form> '))\n",
    "\n",
    "#tekst {}\n"
   ]
  },
  {
   "cell_type": "code",
   "execution_count": 1,
   "id": "a5c77f5b-2808-4d7a-9571-c45994830000",
   "metadata": {},
   "outputs": [],
   "source": [
    "import openai"
   ]
  },
  {
   "cell_type": "code",
   "execution_count": 10,
   "id": "7da5415f-4116-4490-928c-7fa5892dd3ce",
   "metadata": {},
   "outputs": [
    {
     "data": {
      "text/plain": [
       "{'coord': {'lon': 23, 'lat': 51},\n",
       " 'weather': [{'id': 804,\n",
       "   'main': 'Clouds',\n",
       "   'description': 'overcast clouds',\n",
       "   'icon': '04d'}],\n",
       " 'base': 'stations',\n",
       " 'main': {'temp': 291.11,\n",
       "  'feels_like': 291,\n",
       "  'temp_min': 287.97,\n",
       "  'temp_max': 291.92,\n",
       "  'pressure': 1001,\n",
       "  'humidity': 78},\n",
       " 'visibility': 10000,\n",
       " 'wind': {'speed': 4.47, 'deg': 248, 'gust': 23.69},\n",
       " 'clouds': {'all': 100},\n",
       " 'dt': 1713111651,\n",
       " 'sys': {'type': 2,\n",
       "  'id': 2089711,\n",
       "  'country': 'PL',\n",
       "  'sunrise': 1713065675,\n",
       "  'sunset': 1713115284},\n",
       " 'timezone': 7200,\n",
       " 'id': 858785,\n",
       " 'name': 'Lublin Voivodeship',\n",
       " 'cod': 200}"
      ]
     },
     "execution_count": 10,
     "metadata": {},
     "output_type": "execute_result"
    }
   ],
   "source": [
    "from django.http import JsonResponse\n",
    "import requests\n",
    "\n",
    "def get_weather(requests,city):\n",
    "    api_key='fe997cb160ae5130aeb2cda56b4538fd'\n",
    "    api_url= f'https://api.openweathermap.org/data/2.5/weather?q={city}&appid={api_key}'\n",
    "    response = requests.get(api_url)\n",
    "    data = response.json()\n",
    "    return data\n",
    "get_weather(requests,'Lublin')\n",
    "#https://api.openweathermap.org/data/2.5/weather?q=London&appid={fe997cb160ae5130aeb2cda56b4538fd}"
   ]
  },
  {
   "cell_type": "code",
   "execution_count": null,
   "id": "1bc83e42-66b9-4870-ac7a-2b433d92952b",
   "metadata": {},
   "outputs": [],
   "source": []
  },
  {
   "cell_type": "code",
   "execution_count": null,
   "id": "ae06f85b-dcc6-45d6-b87b-d1d416fc0181",
   "metadata": {},
   "outputs": [],
   "source": []
  },
  {
   "cell_type": "code",
   "execution_count": null,
   "id": "01093ee7-c734-437e-9ba5-ea809b05d114",
   "metadata": {},
   "outputs": [],
   "source": []
  },
  {
   "cell_type": "code",
   "execution_count": null,
   "id": "58c81523-9702-4ef9-a3ca-cc16cc0fc1d4",
   "metadata": {},
   "outputs": [],
   "source": [
    "\n",
    "\n"
   ]
  },
  {
   "cell_type": "code",
   "execution_count": null,
   "id": "86a40a80-e52d-4877-b9e7-33ea26201a36",
   "metadata": {},
   "outputs": [],
   "source": []
  }
 ],
 "metadata": {
  "kernelspec": {
   "display_name": "Python 3 (ipykernel)",
   "language": "python",
   "name": "python3"
  },
  "language_info": {
   "codemirror_mode": {
    "name": "ipython",
    "version": 3
   },
   "file_extension": ".py",
   "mimetype": "text/x-python",
   "name": "python",
   "nbconvert_exporter": "python",
   "pygments_lexer": "ipython3",
   "version": "3.9.0"
  }
 },
 "nbformat": 4,
 "nbformat_minor": 5
}
